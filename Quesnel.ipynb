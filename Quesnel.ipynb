{
 "cells": [
  {
   "cell_type": "code",
   "execution_count": null,
   "id": "064cadd0-0f24-4e55-8f5d-5a4432d08719",
   "metadata": {
    "tags": []
   },
   "outputs": [],
   "source": [
    "import numpy as np\n",
    "import geopandas as gpd\n",
    "import pygmt\n",
    "import matplotlib.pyplot as plt\n",
    "import cartopy.crs as ccrs\n",
    "import cartopy\n",
    "\n",
    "\n",
    "from datetime import datetime\n",
    "\n",
    "def decimal_year_to_year_month(decimal_year):\n",
    "    year = int(decimal_year)\n",
    "    month_decimal = (decimal_year - year) * 12\n",
    "    month = int(month_decimal) + 1  # Adding 1 to convert 0-based index to 1-based index\n",
    "\n",
    "    # Handle December\n",
    "    #if month == 13:\n",
    "    #    year += 1\n",
    "    #    month = 1\n",
    "\n",
    "    # Convert fractional month to days\n",
    "    if month==12:\n",
    "        days_in_month=31\n",
    "    else:\n",
    "        days_in_month = (datetime(year, month + 1, 1) - datetime(year, month, 1)).days\n",
    "    day = int((month_decimal - int(month_decimal)) * days_in_month) + 1\n",
    "\n",
    "    return year, month, day\n",
    "\n",
    "decimal_year_to_year_month(1963.92)\n"
   ]
  },
  {
   "cell_type": "code",
   "execution_count": null,
   "id": "385c0d71-402d-4cd8-8a5f-89297b03bfa6",
   "metadata": {
    "tags": []
   },
   "outputs": [],
   "source": [
    "df = gpd.pd.read_csv('/Users/simon/Data/Quesnel/global_marine_lvl.xymlt', \n",
    "                     header=None, \n",
    "                     delim_whitespace=True,\n",
    "                     names=['Longitude',\n",
    "                            'Latitude',\n",
    "                            'Residual field',\n",
    "                            'Cleaned residual field',\n",
    "                            'Cruise ID',\n",
    "                            'Year'])\n",
    "\n",
    "# Convert DataFrame to GeoDataFrame\n",
    "gdf = gpd.GeoDataFrame(df, geometry=gpd.points_from_xy(df.Longitude, df.Latitude), crs='EPSG:4326')\n",
    "\n",
    "gdf_dec = gdf.iloc[::5,:]\n",
    "#gdf_dec10 = gdf.iloc[::10,:]\n"
   ]
  },
  {
   "cell_type": "code",
   "execution_count": null,
   "id": "e839a487-6516-43b4-a243-4dc1958a11b3",
   "metadata": {
    "tags": []
   },
   "outputs": [],
   "source": [
    "bin_size_degrees = .1\n",
    "\n",
    "gdf_dec.loc[:,'bin_latitude'] = np.round(gdf_dec.geometry.y/bin_size_degrees) * bin_size_degrees\n",
    "gdf_dec.loc[:,'bin_longitude'] = np.round(gdf_dec.geometry.x/bin_size_degrees) * bin_size_degrees"
   ]
  },
  {
   "cell_type": "code",
   "execution_count": null,
   "id": "7ca4d8d3-51af-4f8a-af9e-0690066b3635",
   "metadata": {
    "tags": []
   },
   "outputs": [],
   "source": [
    "tmp = gdf_dec.groupby(by=['bin_latitude', 'bin_longitude'])\n",
    "\n",
    "tmpp = tmp.Year.min().reset_index()\n",
    "plt.figure(figsize=(20,10))\n",
    "plt.scatter(tmpp.bin_longitude, tmpp.bin_latitude, c=tmpp.Year, s=2)\n",
    "plt.colorbar()\n"
   ]
  },
  {
   "cell_type": "code",
   "execution_count": null,
   "id": "0bd4ea72-4080-42d6-a24e-f05e2e71cc41",
   "metadata": {
    "tags": []
   },
   "outputs": [],
   "source": [
    "tmpp = tmp['Cleaned residual field'].mean().reset_index()\n",
    "plt.figure(figsize=(20,10))\n",
    "plt.scatter(tmpp.bin_longitude, tmpp.bin_latitude, c=tmpp['Cleaned residual field'], s=2, \n",
    "            cmap='seismic', vmin=-500, vmax=500)\n",
    "plt.colorbar()\n",
    "\n"
   ]
  },
  {
   "cell_type": "code",
   "execution_count": null,
   "id": "95c08de7-bed8-41ab-8acd-3af907edafa7",
   "metadata": {
    "tags": []
   },
   "outputs": [],
   "source": [
    "#mag = pygmt.xyz2grd(tmpp[['bin_longitude', 'bin_latitude', 'Cleaned residual field']],\n",
    "#                    spacing=bin_size_degrees, region='g')\n",
    "\n",
    "#mag.plot(vmin=-500, vmax=500)\n",
    "plt.figure(figsize=(20,14))\n",
    "#plt.plot(tmpp.bin_longitude, tmpp.bin_latitude, 'k.', markersize=.5)\n",
    "#plt.scatter(tmpp.bin_longitude, tmpp.bin_latitude, c=tmpp['Cleaned residual field'], s=2, \n",
    "#            cmap='seismic', vmin=-500, vmax=500)\n",
    "mag.plot()\n",
    "plt.xlim(190,210)\n",
    "plt.ylim(15,30)"
   ]
  },
  {
   "cell_type": "code",
   "execution_count": null,
   "id": "a87172f9-b831-4c08-9711-ee58124ff1d0",
   "metadata": {
    "tags": []
   },
   "outputs": [],
   "source": [
    "year_grid = pygmt.binstats(data=gdf_dec[['Longitude', 'Latitude', 'Year']], statistic='l',\n",
    "                           spacing=bin_size_degrees, region='g', search_radius='{:f}d'.format(bin_size_degrees*2.5))\n",
    "\n",
    "magnetic_grid = pygmt.binstats(data=gdf_dec[['Longitude', 'Latitude', 'Cleaned residual field']], statistic='m',\n",
    "                               spacing=bin_size_degrees, region='g', search_radius='{:f}d'.format(bin_size_degrees*2.5))"
   ]
  },
  {
   "cell_type": "code",
   "execution_count": null,
   "id": "fcd74078-684a-44be-8f27-a822f3a7062e",
   "metadata": {
    "tags": []
   },
   "outputs": [],
   "source": [
    "#yr_mask = yr.where(yr<1964)\n",
    "mag_mask = mag.where(yr<1964)\n",
    "\n",
    "plt.figure(figsize=(20,10))\n",
    "#yr.plot()\n",
    "#mag.plot(vmin=-500, vmax=500, cmap='seismic')\n",
    "mag_mask.plot()\n"
   ]
  },
  {
   "cell_type": "code",
   "execution_count": null,
   "id": "9201688f-35dc-4e03-a0f8-4fe76b097f2b",
   "metadata": {
    "tags": []
   },
   "outputs": [],
   "source": [
    "time_step = 1/365.\n",
    "yr=1964\n",
    "most_recent_data = gdf_dec.query('Year<@yr & Year>(@yr-@time_step*5)')\n",
    "\n",
    "proj = ccrs.PlateCarree()\n",
    "extent = (-179.9, 179.9, -89.9, 89.9)\n",
    "\n",
    "all_data_so_far = magnetic_grid.where(year_grid<yr)\n",
    "\n",
    "fig = plt.figure(figsize=[32, 16])\n",
    "\n",
    "ax = fig.add_subplot(1, 1, 1, projection=ccrs.Mollweide(0))\n",
    "\n",
    "#ax.coastlines(zorder=3)\n",
    "#ax.stock_img()\n",
    "#ax.gridlines()\n",
    "#ax.gridlines(linewidth=1, color='gray', alpha=0.5, linestyle='--', xlocs=range(-180, 181, 15), ylocs=range(-90, 91, 15))\n",
    "\n",
    "ax.add_feature(cartopy.feature.LAND.with_scale('10m'), facecolor='grey')\n",
    "ax.set_extent(extent, crs=proj)\n",
    "\n",
    "ax.spines['geo'].set_linewidth(4)\n",
    "ax.spines['geo'].set_edgecolor('black')\n",
    "\n",
    "#if len(all_data_so_far)>0:\n",
    "#    ax.scatter(all_data_so_far.geometry.x, \n",
    "#               all_data_so_far.geometry.y, \n",
    "#               c=all_data_so_far['Residual field'], \n",
    "#               cmap='seismic', vmin=-200, vmax=200,\n",
    "#               s=1, alpha=0.7,\n",
    "#               transform=proj)\n",
    "ax.pcolormesh(all_data_so_far, cmap='seismic', vmin=-200, vmax=200, transform=proj)\n",
    "'''\n",
    "if len(most_recent_data)>0:\n",
    "    alpha_factor = np.array(1+(most_recent_data.Year-yr) / (time_step*5))\n",
    "    ax.scatter(most_recent_data.geometry.x, \n",
    "               most_recent_data.geometry.y, \n",
    "               color='darkorange', s=30,\n",
    "               transform=proj, alpha=alpha_factor, zorder=2)\n",
    "\n",
    "plt.tight_layout()\n",
    "yyyy,mm,dd = decimal_year_to_year_month(yr)\n",
    "fig.suptitle('{:d}/{:d}/{:d}'.format(yyyy,mm,dd), y=0.97, x=0.1, fontsize=80)\n",
    "'''\n",
    "plt.show()\n",
    "\n",
    "#fig.savefig('./sequence/Shiptracks/sequence_{:0.3f}.jpg'.format(yr), dpi=75)\n",
    "#plt.close()\n",
    "\n"
   ]
  },
  {
   "cell_type": "code",
   "execution_count": null,
   "id": "31d54744-9736-4057-ad50-731a6c3dc3c5",
   "metadata": {
    "tags": []
   },
   "outputs": [],
   "source": [
    "#yr = 1963\n",
    "#time_step = 1./100.\n",
    "\n",
    "\n",
    "#'''    \n",
    "for yr in np.arange(1960,1970,time_step):\n",
    "    \n",
    "    #all_data_so_far = gdf.query('Year<@yr')\n",
    "    all_data_so_far = magnetic_grid.where(year_grid<yr)\n",
    "\n",
    "    #most_recent_data = all_data_so_far.query('Year>(@yr-@time_step*5)')\n",
    "    most_recent_data = gdf_dec.query('Year<@yr & Year>(@yr-@time_step*5)')\n",
    "\n",
    "\n",
    "    region = 'd'\n",
    "    projection = 'W180/12c'\n",
    "    fig = pygmt.Figure()\n",
    "    \n",
    "    pygmt.makecpt(cmap='polar', series='-200/200', reverse=True)\n",
    "    fig.grdimage(all_data_so_far, region=region, projection=projection, cmap=True)\n",
    "\n",
    "    fig.coast(land='gray70', resolution='l', area_thresh=5000.,\n",
    "              region=region, projection=projection, \n",
    "              transparency=20)\n",
    "\n",
    "    if len(most_recent_data)>0:\n",
    "        fig.plot(x=most_recent_data.geometry.x, \n",
    "                 y=most_recent_data.geometry.y,\n",
    "                 fill='darkorange', \n",
    "                 style='c',\n",
    "                 size=0.05+np.arange(len(most_recent_data))/(len(most_recent_data)*20),\n",
    "                 transparency=70,\n",
    "                 #pen='0.02p,darkgray', \n",
    "                 region=region, projection=projection)\n",
    "\n",
    "    yyyy,mm,dd = decimal_year_to_year_month(yr)\n",
    "    fig.text(x=0.01,y=1.07,text='{:d}/{:d}/{:d}'.format(yyyy,mm,dd), justify='LM',\n",
    "                     region='0/1/0/1', projection='x5.25c', font='12p', no_clip=True)\n",
    "    fig.basemap(frame=['f'],#,'+t{:0.1f}'.format(yr)], \n",
    "                region=region, projection=projection)\n",
    "    #fig.show(width=1000)\n",
    "    fig.savefig('./sequence/Shiptracks/sequence_{:0.3f}.png'.format(yr))\n",
    "    #break\n",
    "#'''\n",
    "print('pygmt version is slow')"
   ]
  },
  {
   "cell_type": "code",
   "execution_count": null,
   "id": "27da159e-4cf0-4b1d-8cdd-8d206a9a0932",
   "metadata": {
    "tags": []
   },
   "outputs": [],
   "source": [
    "gdf['Year'].min()"
   ]
  },
  {
   "cell_type": "code",
   "execution_count": null,
   "id": "264c13d4-c851-4e12-83d9-17665d5981e6",
   "metadata": {},
   "outputs": [],
   "source": [
    "\n",
    "\n",
    "proj = ccrs.PlateCarree()\n",
    "extent = (0, 359, -90, 90)\n",
    "\n",
    "time_step = 1./365.\n",
    "\n",
    "for yr in np.arange(1960.0,1970,time_step):\n",
    "    \n",
    "    all_data_so_far = gdf_dec5.query('Year<@yr')\n",
    "    \n",
    "    most_recent_data = all_data_so_far.query('Year>(@yr-@time_step*5)')\n",
    "\n",
    "    fig = plt.figure(figsize=[32, 16])\n",
    "\n",
    "    # We choose to plot in an Orthographic projection as it looks natural\n",
    "    # and the distortion is relatively small around the poles where\n",
    "    # the aurora is most likely.\n",
    "\n",
    "    # ax1 for Northern Hemisphere\n",
    "    ax1 = fig.add_subplot(1, 2, 1, projection=ccrs.Orthographic(0, 90))\n",
    "\n",
    "    # ax2 for Southern Hemisphere\n",
    "    ax2 = fig.add_subplot(1, 2, 2, projection=ccrs.Orthographic(180, -90))\n",
    "\n",
    "\n",
    "    for ax in [ax1, ax2]:\n",
    "        #ax.coastlines(zorder=3)\n",
    "        #ax.stock_img()\n",
    "        ax.gridlines()\n",
    "        ax.add_feature(cartopy.feature.LAND.with_scale('10m'), facecolor='grey')\n",
    "\n",
    "        if len(most_recent_data)>0:\n",
    "            ax.plot(most_recent_data.geometry.x, \n",
    "                    most_recent_data.geometry.y, \n",
    "                    'o', color='darkorange', markersize=8,\n",
    "                    transform=proj, zorder=0)\n",
    "        if len(all_data_so_far)>0:\n",
    "            ax.scatter(all_data_so_far.geometry.x, \n",
    "                       all_data_so_far.geometry.y, \n",
    "                       c=all_data_so_far['Residual field'], \n",
    "                       cmap='seismic', vmin=-200, vmax=200,\n",
    "                       s=1, alpha=0.7,\n",
    "                       transform=proj)\n",
    "\n",
    "    plt.tight_layout()\n",
    "    yyyy,mm,dd = decimal_year_to_year_month(yr)\n",
    "    fig.suptitle('{:d}/{:d}/{:d}'.format(yyyy,mm,dd), y=0.98, fontsize=48)\n",
    "    fig.savefig('./sequence/Shiptracks/sequence_{:0.3f}.jpg'.format(yr), dpi=75)\n",
    "    plt.close()\n",
    "    #plt.show()\n",
    "    #break\n"
   ]
  },
  {
   "cell_type": "code",
   "execution_count": null,
   "id": "5577c65f-88e9-4899-8176-5d928106eae1",
   "metadata": {
    "tags": []
   },
   "outputs": [],
   "source": [
    "proj = ccrs.PlateCarree()\n",
    "extent = (-179.9, 179.9, -89.9, 89.9)\n",
    "\n",
    "time_step = 1./365.\n",
    "\n",
    "\n",
    "for yr in np.arange(1962.0,2009,time_step):\n",
    "    \n",
    "    #if yr>1980:\n",
    "    #    all_data_so_far = gdf_dec20.query('Year<@yr')\n",
    "    #else:\n",
    "    all_data_so_far = gdf_dec.query('Year<@yr')\n",
    "\n",
    "    most_recent_data = all_data_so_far.query('Year>(@yr-@time_step*5)')\n",
    "\n",
    "    fig = plt.figure(figsize=[32, 16])\n",
    "\n",
    "    # We choose to plot in an Orthographic projection as it looks natural\n",
    "    # and the distortion is relatively small around the poles where\n",
    "    # the aurora is most likely.\n",
    "\n",
    "    # ax1 for Northern Hemisphere\n",
    "    ax = fig.add_subplot(1, 1, 1, projection=ccrs.Mollweide(0))\n",
    "\n",
    "    #ax.coastlines(zorder=3)\n",
    "    #ax.stock_img()\n",
    "    #ax.gridlines()\n",
    "    #ax.gridlines(linewidth=1, color='gray', alpha=0.5, linestyle='--', xlocs=range(-180, 181, 15), ylocs=range(-90, 91, 15))\n",
    "\n",
    "    ax.add_feature(cartopy.feature.LAND.with_scale('10m'), facecolor='grey')\n",
    "    ax.set_extent(extent, crs=proj)\n",
    "\n",
    "    ax.spines['geo'].set_linewidth(4)\n",
    "    ax.spines['geo'].set_edgecolor('black')\n",
    "\n",
    "    if len(all_data_so_far)>0:\n",
    "        ax.scatter(all_data_so_far.geometry.x, \n",
    "                   all_data_so_far.geometry.y, \n",
    "                   c=all_data_so_far['Residual field'], \n",
    "                   cmap='seismic', vmin=-200, vmax=200,\n",
    "                   s=1, alpha=0.7,\n",
    "                   transform=proj)\n",
    "    if len(most_recent_data)>0:\n",
    "        alpha_factor = np.array(1+(most_recent_data.Year-yr) / (time_step*5))\n",
    "        ax.scatter(most_recent_data.geometry.x, \n",
    "                   most_recent_data.geometry.y, \n",
    "                   color='darkorange', s=30,\n",
    "                   transform=proj, alpha=alpha_factor, zorder=2)\n",
    "\n",
    "    plt.tight_layout()\n",
    "    yyyy,mm,dd = decimal_year_to_year_month(yr)\n",
    "    fig.suptitle('{:d}/{:d}/{:d}'.format(yyyy,mm,dd), y=0.97, x=0.1, fontsize=80)\n",
    "    #plt.show()\n",
    "    \n",
    "    fig.savefig('./sequence/Shiptracks/sequence_{:0.3f}.jpg'.format(yr), dpi=75)\n",
    "    plt.close()\n",
    "    #break\n"
   ]
  },
  {
   "cell_type": "code",
   "execution_count": null,
   "id": "9c3b2e13-5216-41c1-8dc6-e9f29ff5a7a1",
   "metadata": {},
   "outputs": [],
   "source": [
    "alpha_factor = 1+(most_recent_data.Year-yr) / (time_step*5)\n",
    "#alpha_factor\n",
    "plt.plot(alpha_factor)\n"
   ]
  },
  {
   "cell_type": "code",
   "execution_count": null,
   "id": "153e87c6-5867-4360-94bd-0bd8ea2730fa",
   "metadata": {},
   "outputs": [],
   "source": []
  },
  {
   "cell_type": "code",
   "execution_count": null,
   "id": "a66d3569-406b-4207-a472-ebb9fd342906",
   "metadata": {},
   "outputs": [],
   "source": []
  }
 ],
 "metadata": {
  "kernelspec": {
   "display_name": "Python [conda env:pygmt10]",
   "language": "python",
   "name": "conda-env-pygmt10-py"
  },
  "language_info": {
   "codemirror_mode": {
    "name": "ipython",
    "version": 3
   },
   "file_extension": ".py",
   "mimetype": "text/x-python",
   "name": "python",
   "nbconvert_exporter": "python",
   "pygments_lexer": "ipython3",
   "version": "3.10.14"
  }
 },
 "nbformat": 4,
 "nbformat_minor": 5
}
